{
 "cells": [
  {
   "cell_type": "markdown",
   "metadata": {},
   "source": [
    "mergesort인데 크기비교는 안하는 버전인듯함."
   ]
  },
  {
   "cell_type": "markdown",
   "metadata": {},
   "source": [
    "# 1. 예은 버전"
   ]
  },
  {
   "cell_type": "code",
   "execution_count": 38,
   "metadata": {},
   "outputs": [],
   "source": [
    "str1 = \"ABCABC\"\n",
    "str2 = \"ABC\"\n"
   ]
  },
  {
   "cell_type": "code",
   "execution_count": null,
   "metadata": {},
   "outputs": [],
   "source": [
    "        for i in range(l1-len_can):\n",
    "            print(str1[i:len_can])"
   ]
  },
  {
   "cell_type": "code",
   "execution_count": 48,
   "metadata": {},
   "outputs": [],
   "source": [
    "len_can = 2"
   ]
  },
  {
   "cell_type": "code",
   "execution_count": 50,
   "metadata": {},
   "outputs": [
    {
     "name": "stdout",
     "output_type": "stream",
     "text": [
      "AB\n",
      "CA\n"
     ]
    }
   ],
   "source": [
    "for i in range(0, len(str1)-len_can, len_can):\n",
    "    print(str1[i:i+len_can])"
   ]
  },
  {
   "cell_type": "code",
   "execution_count": 46,
   "metadata": {},
   "outputs": [],
   "source": [
    "comb2 = []\n",
    "l2 = len(str2)\n",
    "for i in range(l2): #시작 index\n",
    "    for j in range(l2): #길이\n",
    "        candidate = str2[i:i+j+1]\n",
    "        len_can = len(candidate)\n",
    "        error_cnt = 0\n",
    "        for i in range(l2-len_can-1):\n",
    "            if str1[i:i+len_can] != candidate:\n",
    "                error_cnt += 1\n",
    "        if error_cnt == 0:\n",
    "            comb2.append(candidate)\n",
    "\n",
    "#2. comb를 unique하게 만들고 긴 순서대로 sort하기\n",
    "comb2_unique = list(set(comb2))\n",
    "comb2_unique.sort(key = len, reverse = True)\n",
    "comb2_unique.append(\"\") #아무것도 없는애도 추가해주기   \n",
    "\n",
    "\n",
    "#1. str1를 가지고 모든 combination 만들기\n",
    "comb1 = []\n",
    "l1 = len(str1)\n",
    "for i in range(l1): #시작 index\n",
    "    for j in range(l1): #길이\n",
    "        candidate = str1[i:i+j+1]\n",
    "        len_can = len(candidate)\n",
    "        error_cnt = 0\n",
    "        for i in range(0, l1-len_can-1, len_can):\n",
    "            if str1[i:i+len_can] != candidate:\n",
    "                error_cnt += 1\n",
    "        if error_cnt == 0:\n",
    "            comb1.append(candidate)\n",
    "\n",
    "#2. comb를 unique하게 만들고 긴 순서대로 sort하기\n",
    "comb1_unique = list(set(comb1))\n",
    "comb1_unique.sort(key = len, reverse = True)\n",
    "comb1_unique.append(\"\") #아무것도 없는애도 추가해주기   "
   ]
  },
  {
   "cell_type": "code",
   "execution_count": null,
   "metadata": {},
   "outputs": [],
   "source": []
  },
  {
   "cell_type": "code",
   "execution_count": 47,
   "metadata": {},
   "outputs": [
    {
     "data": {
      "text/plain": [
       "['ABCABC', 'ABCAB', '']"
      ]
     },
     "execution_count": 47,
     "metadata": {},
     "output_type": "execute_result"
    }
   ],
   "source": [
    "comb1_unique"
   ]
  },
  {
   "cell_type": "code",
   "execution_count": 23,
   "metadata": {},
   "outputs": [
    {
     "name": "stdout",
     "output_type": "stream",
     "text": [
      "ABC\n",
      "BC\n",
      "AB\n",
      "A\n",
      "B\n",
      "C\n"
     ]
    }
   ],
   "source": [
    "for ele in comb_unique:\n",
    "    if ele in str1:\n",
    "        print(ele)"
   ]
  },
  {
   "cell_type": "code",
   "execution_count": 51,
   "metadata": {},
   "outputs": [],
   "source": [
    "\n",
    "def gcdOfStrings(str1, str2):\n",
    "    l1 = len(str1)\n",
    "    l2 = len(str2)\n",
    "\n",
    "    if l1 < l2:\n",
    "        shorter = str1\n",
    "        longer = str2\n",
    "    else:\n",
    "        shorter = str2\n",
    "        longer = str1\n",
    "    \n",
    "    len_s = len(shorter)\n",
    "    len_l = len(longer)\n",
    "    #공약수 찾아서 비교하기\n",
    "    for k in range(len_s, 0, -1):\n",
    "        if len_s%k == 0 and len_l%k ==0:\n",
    "            d_s = len_s//k\n",
    "            d_l = len_l//k\n",
    "            candidate = shorter[0:k]\n",
    "            if candidate*d_s == shorter and candidate*d_l == longer:\n",
    "                return candidate\n",
    "            \n"
   ]
  },
  {
   "cell_type": "code",
   "execution_count": 25,
   "metadata": {},
   "outputs": [
    {
     "data": {
      "text/plain": [
       "'E'"
      ]
     },
     "execution_count": 25,
     "metadata": {},
     "output_type": "execute_result"
    }
   ],
   "source": [
    "def gcdOfStrings(str1, str2):\n",
    "    \"\"\"\n",
    "    생각한 방법: str2를 str1[0:len(str2)]~str1[len(str2):]까지 체크\n",
    "    일단 str2를 가지고 모든 combination을 만들어서 list안에 넣고, 그 list를 sort를 한다음에 긴애들부터 위처럼 체크를 해본다.\n",
    "    \"\"\"\n",
    "\n",
    "    #1. str2를 가지고 모든 combination 만들기\n",
    "    comb2 = []\n",
    "    l2 = len(str2)\n",
    "    for i in range(l2): #시작 index\n",
    "        for j in range(l2): #길이\n",
    "            candidate = str2[i:i+j+1]\n",
    "            len_can = len(candidate)\n",
    "            error_cnt = 0\n",
    "            for i in range(l2-len_can):\n",
    "                if str2[i:len_can] != candidate:\n",
    "                    error_cnt += 1\n",
    "            if error_cnt == 0:\n",
    "                comb2.append(candidate)\n",
    "\n",
    "    #2. comb를 unique하게 만들고 긴 순서대로 sort하기\n",
    "    comb2_unique = list(set(comb2))\n",
    "    comb2_unique.sort(key = len, reverse = True)\n",
    "    comb2_unique.append(\"\") #아무것도 없는애도 추가해주기   \n",
    "\n",
    "\n",
    "    #1. str1를 가지고 모든 combination 만들기\n",
    "    comb1 = []\n",
    "    l1 = len(str1)\n",
    "    for i in range(l1): #시작 index\n",
    "        for j in range(l1): #길이\n",
    "            candidate = str1[i:i+j+1]\n",
    "            len_can = len(candidate)\n",
    "            error_cnt = 0\n",
    "            for i in range(l1-len_can):\n",
    "                if str1[i:len_can] != candidate:\n",
    "                    error_cnt += 1\n",
    "            if error_cnt == 0:\n",
    "                comb1.append(candidate)\n",
    "\n",
    "    #2. comb를 unique하게 만들고 긴 순서대로 sort하기\n",
    "    comb1_unique = list(set(comb1))\n",
    "    comb1_unique.sort(key = len, reverse = True)\n",
    "    comb1_unique.append(\"\") #아무것도 없는애도 추가해주기   \n",
    "\n",
    "\n",
    "\n",
    "    #3. 긴거부터 check하면서 str1안에 있으면 그거 return하기\n",
    "    for ele in comb_unique:\n",
    "        if ele in str1:\n",
    "            return ele"
   ]
  },
  {
   "cell_type": "code",
   "execution_count": null,
   "metadata": {},
   "outputs": [],
   "source": [
    "\n",
    "\n",
    "class Solution(object):\n",
    "    def mergeAlternately(word1, word2):\n",
    "        list1 = []\n",
    "        list2 = []\n",
    "\n",
    "        for s in word1:\n",
    "            list1.append(s)\n",
    "\n",
    "        for s in word2:\n",
    "            list2.append(s)\n",
    "\n",
    "            \n",
    "        result = []\n",
    "\n",
    "        #word2이 더 길때\n",
    "        if len(word1) < len(word2):\n",
    "            for i in range(0, len(word1)):\n",
    "                result.append(list1[i])\n",
    "                result.append(list2[i])\n",
    "            result.extend(list2[len(word1):])\n",
    "\n",
    "        #word1이 더 길때\n",
    "        if len(word1) >= len(word2):\n",
    "            for i in range(0, len(word2)):\n",
    "                result.append(list1[i])\n",
    "                result.append(list2[i])\n",
    "            result.extend(list1[len(word2):])\n",
    "\n",
    "\n",
    "        result_s = \"\"\n",
    "        for i in result:\n",
    "            result_s = result_s + i\n",
    "\n",
    "        return result_s\n",
    "\n",
    "\n",
    "\n",
    "\n",
    "    \n",
    "\n",
    "        "
   ]
  },
  {
   "cell_type": "markdown",
   "metadata": {},
   "source": [
    "# 2. 코딩 신 버전"
   ]
  },
  {
   "cell_type": "code",
   "execution_count": 47,
   "metadata": {},
   "outputs": [],
   "source": [
    "class Solution(object):\n",
    "    def mergeAlternately(word1, word2):\n",
    "        \"\"\"둘중 더 긴애를 판별해서, 총 그만큼 돌되, if문으로 걸러서 해보자\"\"\"\n",
    "        result = \"\"\n",
    "        w1, w2 = len(word1), len(word2)\n",
    "        for i in range(0, max(w1,w2)):\n",
    "            if i < w1:\n",
    "                result += word1[i]\n",
    "            if i < w2:\n",
    "                result += word2[i]\n",
    "            i += 1\n",
    "        \n",
    "        return result\n",
    "    \n",
    "\n"
   ]
  },
  {
   "cell_type": "code",
   "execution_count": 48,
   "metadata": {},
   "outputs": [
    {
     "data": {
      "text/plain": [
       "'apbqcrrwer'"
      ]
     },
     "execution_count": 48,
     "metadata": {},
     "output_type": "execute_result"
    }
   ],
   "source": [
    "word1 = \"abc\"\n",
    "word2 = \"pqrrwer\"\n",
    "Solution.mergeAlternately(word1, word2)\n"
   ]
  },
  {
   "cell_type": "code",
   "execution_count": 40,
   "metadata": {},
   "outputs": [
    {
     "data": {
      "text/plain": [
       "['p', 'a', 'q', 'b', 'r', 'c', 'r', 'w', 'e', 'r']"
      ]
     },
     "execution_count": 40,
     "metadata": {},
     "output_type": "execute_result"
    }
   ],
   "source": [
    "word2 = \"abc\"\n",
    "word1 = \"pqrrwer\"\n",
    "Solution.mergeAlternately(word1, word2)\n"
   ]
  },
  {
   "cell_type": "code",
   "execution_count": 20,
   "metadata": {},
   "outputs": [
    {
     "data": {
      "text/plain": [
       "['p', 'q', 'r']"
      ]
     },
     "execution_count": 20,
     "metadata": {},
     "output_type": "execute_result"
    }
   ],
   "source": [
    "class Solution(object):\n",
    "    def mergeAlternately(self, word1, word2):\n",
    "            \n",
    "        result = []\n",
    "\n",
    "        #word2이 더 길때\n",
    "        if len(word1) < len(word2):\n",
    "            for i in range(0, len(word1)):\n",
    "                result.append(list1[i])\n",
    "                result.append(list2[i])\n",
    "            result.extend(list2[len(word1):])\n",
    "\n",
    "        #word1이 더 길때\n",
    "        if len(word1) >= len(word2):\n",
    "            for i in range(0, len(word2)):\n",
    "                result.append(list1[i])\n",
    "                result.append(list2[i])\n",
    "            result.extend(list1[len(word2):])\n",
    "\n",
    "\n",
    "        result_s = \"\"\n",
    "        for i in result:\n",
    "            result_s = result_s + i\n",
    "\n",
    "        return result_s\n",
    "        \n",
    "        \n",
    "\n",
    "\n",
    "    \n",
    "\n",
    "        "
   ]
  },
  {
   "cell_type": "code",
   "execution_count": 27,
   "metadata": {},
   "outputs": [],
   "source": [
    "la = []\n",
    "la.extend(list2[2:3])"
   ]
  },
  {
   "cell_type": "code",
   "execution_count": 33,
   "metadata": {},
   "outputs": [
    {
     "data": {
      "text/plain": [
       "'abcpqrrwer'"
      ]
     },
     "execution_count": 33,
     "metadata": {},
     "output_type": "execute_result"
    }
   ],
   "source": [
    "word1+word2"
   ]
  },
  {
   "cell_type": "code",
   "execution_count": null,
   "metadata": {},
   "outputs": [],
   "source": []
  }
 ],
 "metadata": {
  "kernelspec": {
   "display_name": "aiclass",
   "language": "python",
   "name": "python3"
  },
  "language_info": {
   "codemirror_mode": {
    "name": "ipython",
    "version": 3
   },
   "file_extension": ".py",
   "mimetype": "text/x-python",
   "name": "python",
   "nbconvert_exporter": "python",
   "pygments_lexer": "ipython3",
   "version": "3.9.7"
  }
 },
 "nbformat": 4,
 "nbformat_minor": 2
}
