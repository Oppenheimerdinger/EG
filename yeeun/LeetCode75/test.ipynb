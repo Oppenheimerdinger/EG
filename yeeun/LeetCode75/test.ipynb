{
 "cells": [
  {
   "cell_type": "code",
   "execution_count": 4,
   "metadata": {},
   "outputs": [],
   "source": [
    "def kidsWithCandies(candies, extraCandies):\n",
    "    #list element 중 max값을 찾는다\n",
    "    #extra candies를 원래 candies list에 각각 더했을때 max보다 크면 True 아니면 False\n",
    "    \n",
    "    #1. list element 중 max값 찾기\n",
    "    max_num = 0\n",
    "    for ele in candies:\n",
    "        if ele > max_num:\n",
    "            max_num = ele\n",
    "    \n",
    "    #2. 각각 더했을때 max보다 크면 True 아니면 False인 리스트 만들기\n",
    "    result_list = [False]*len(candies)\n",
    "    for i in range(len(result_list)):\n",
    "        if candies[i]+extraCandies >= max_num:\n",
    "            result_list[i] = True\n",
    "    return result_list"
   ]
  },
  {
   "cell_type": "code",
   "execution_count": 5,
   "metadata": {},
   "outputs": [
    {
     "data": {
      "text/plain": [
       "[True, True, True, False, True]"
      ]
     },
     "execution_count": 5,
     "metadata": {},
     "output_type": "execute_result"
    }
   ],
   "source": [
    "candies = [2,3,5,1,3]\n",
    "extraCandies = 3\n",
    "kidsWithCandies(candies, extraCandies)"
   ]
  }
 ],
 "metadata": {
  "kernelspec": {
   "display_name": "Python 3",
   "language": "python",
   "name": "python3"
  },
  "language_info": {
   "codemirror_mode": {
    "name": "ipython",
    "version": 3
   },
   "file_extension": ".py",
   "mimetype": "text/x-python",
   "name": "python",
   "nbconvert_exporter": "python",
   "pygments_lexer": "ipython3",
   "version": "3.9.7"
  }
 },
 "nbformat": 4,
 "nbformat_minor": 2
}
